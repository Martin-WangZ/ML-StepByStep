{
 "cells": [
  {
   "cell_type": "markdown",
   "metadata": {
    "collapsed": true
   },
   "source": [
    "# Naive Bayes Alrogithm Implement"
   ]
  },
  {
   "cell_type": "markdown",
   "metadata": {},
   "source": [
    "### Assumption: conditional probs over features are independent "
   ]
  },
  {
   "cell_type": "markdown",
   "metadata": {},
   "source": [
    "## $p(Y=c_k|X=x)=\\frac{p(X=x|Y=c_k)p(Y=c_k)}{\\sum_k{p(X=x|Y=c_k)p(Y=c_k)}}=\\frac{p(Y=c_k)\\prod_j{p(X^j=x^j|Y=c_k)}}{\\sum_k{p(Y=c_k)\\prod_j{p(X^j=x^j|Y=c_k)}}}$ \n"
   ]
  },
  {
   "cell_type": "markdown",
   "metadata": {},
   "source": [
    "### $\\sum_k{p(Y=c_k)\\prod_j{p(X^j=x^j|Y=c_k)}}$ is constant so we have:\n",
    "### $\\arg\\max_{c_k}{p(Y=c_k|X=x)}=p(Y=c_k)\\prod_j{p(X^j=x^j|Y=c_k)}$"
   ]
  },
  {
   "cell_type": "code",
   "execution_count": 1,
   "metadata": {},
   "outputs": [],
   "source": [
    "import numpy as np\n",
    "import pandas as pd"
   ]
  },
  {
   "cell_type": "code",
   "execution_count": 2,
   "metadata": {},
   "outputs": [],
   "source": [
    "class NaiveBayes():\n",
    "    def __init__(self,laplas=0):\n",
    "        self.__x=None\n",
    "        self.__y=None\n",
    "        self.__laplas=laplas\n",
    "        self.__predicts=None\n",
    "        \n",
    "    def dataProcessing(self,data):\n",
    "        if isinstance(data,pd.DataFrame):\n",
    "            data=data.to_numpy()\n",
    "        self.__x=data[:,:-1]\n",
    "        self.__y=data[:,-1]\n",
    "            \n",
    "    def predict(self,x):\n",
    "        values,counts=np.unique(self.__y,return_counts=True)\n",
    "        # priors= p(Y=ck) with laplas smoother\n",
    "        priors=(counts+self.__laplas)/(len(self.__y)+self.__laplas*len(values))\n",
    "        # iterate each data entry in set x\n",
    "        preds=[]\n",
    "        for entry in x:\n",
    "            clsProbs=dict()\n",
    "            for i,v in enumerate(values):\n",
    "                # which data point belong to class v\n",
    "                vindex=self.__y==v\n",
    "                # get these data points\n",
    "                vset=self.__x[vindex,:]\n",
    "                # number of data points in the class\n",
    "                dataNum=counts[i]\n",
    "                # for each data point, iterate its attribute to get conditional probs\n",
    "                conditProbs=[]\n",
    "                for j, attr in enumerate(entry):\n",
    "                    # how many times the attribute shows in this column\n",
    "                    attrNum= (attr==vset[:,j]).sum()\n",
    "                    # how much different values in this column \n",
    "                    attrClsNum=len(np.unique(vset[:,j]))\n",
    "                    conditProb=(attrNum+self.__laplas)/(dataNum+attrClsNum*self.__laplas)\n",
    "                    conditProbs.append(conditProb)\n",
    "                prodCP=np.cumprod(conditProbs)[-1]\n",
    "                # the prob of data entry would be class v is prob\n",
    "                prob=priors[i]*prodCP\n",
    "                clsProbs[f'{v}']=prob\n",
    "            # predict the class of the data point based on max probs \n",
    "            predCls=int(max(clsProbs))\n",
    "            preds.append(predCls)\n",
    "        self.__predicts=preds\n",
    "        return preds\n",
    "    \n",
    "    def Accuracy(self,y):\n",
    "        return np.mean(self.__predicts==y)                          "
   ]
  }
 ],
 "metadata": {
  "kernelspec": {
   "display_name": "Python 3 (ipykernel)",
   "language": "python",
   "name": "python3"
  },
  "language_info": {
   "codemirror_mode": {
    "name": "ipython",
    "version": 3
   },
   "file_extension": ".py",
   "mimetype": "text/x-python",
   "name": "python",
   "nbconvert_exporter": "python",
   "pygments_lexer": "ipython3",
   "version": "3.8.13"
  }
 },
 "nbformat": 4,
 "nbformat_minor": 1
}