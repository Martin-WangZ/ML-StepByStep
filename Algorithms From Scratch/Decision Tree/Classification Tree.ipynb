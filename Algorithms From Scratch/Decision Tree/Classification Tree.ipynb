{
 "cells": [
  {
   "cell_type": "markdown",
   "metadata": {
    "collapsed": true
   },
   "source": [
    "# Classification Tree Implement With Gini"
   ]
  },
  {
   "cell_type": "markdown",
   "metadata": {},
   "source": [
    "### $Gini(p)=1-\\sum_{k=1}^{K}{p_k^2}$\n",
    "### $Gini(D)=1-\\sum_{k=1}^{K}{(\\frac{|C_k|}{|D|})^2}$ , Given Dataset D\n",
    "### $Gini(D,A)=\\frac{|D_1|}{|D|}Gini(D_1)+\\frac{|D_2|}{|D|}Gini(D_2)$"
   ]
  },
  {
   "cell_type": "code",
   "execution_count": 1,
   "metadata": {},
   "outputs": [],
   "source": [
    "import numpy as np\n",
    "import pandas as pd"
   ]
  },
  {
   "cell_type": "code",
   "execution_count": 1,
   "metadata": {
    "pycharm": {
     "name": "#%%\n"
    }
   },
   "outputs": [
    {
     "ename": "SyntaxError",
     "evalue": "unexpected EOF while parsing (818702816.py, line 43)",
     "output_type": "error",
     "traceback": [
      "\u001B[1;36m  Input \u001B[1;32mIn [1]\u001B[1;36m\u001B[0m\n\u001B[1;33m    \u001B[0m\n\u001B[1;37m    ^\u001B[0m\n\u001B[1;31mSyntaxError\u001B[0m\u001B[1;31m:\u001B[0m unexpected EOF while parsing\n"
     ]
    }
   ],
   "source": [
    "class Node:\n",
    "    def __init__(self,parent,feature,value):\n",
    "        self.__parent=None\n",
    "        self.__feature=None\n",
    "        self.__value=None\n",
    "\n",
    "\n",
    "class CT:\n",
    "    def __init__(self, maxDepth=5,minGini=0.01):\n",
    "        self.__tree = []\n",
    "        self.__depth=0\n",
    "        self.__maxDepth=maxDepth\n",
    "        self.__minGini = minGini\n",
    "\n",
    "    def dataProcessing(self, data):\n",
    "        if isinstance(data, pd.DataFrame):\n",
    "            data = data.to_numpy()\n",
    "        x = data[:, :-1]\n",
    "        y = data[:, -1]\n",
    "        return x, y\n",
    "\n",
    "    def _gini(self, y):\n",
    "        values, counts = np.unique(y, return_counts=True)\n",
    "        p = counts / len(y)\n",
    "        gini = 1 - np.sum(p ** 2)\n",
    "        return gini\n",
    "\n",
    "    def _condGini(self, feature, value, x, y):\n",
    "        x = x[:, feature]\n",
    "        subIndex1 = np.nonzero(x == value)\n",
    "        subIndex2 = np.nonzero(x != value)\n",
    "        y1 = y[subIndex1]\n",
    "        y2 = y[subIndex2]\n",
    "        condGini = len(y1) / len(y) * self._gini(y1) + len(y2) / len(y) * self._gini(y2)\n",
    "        return condGini\n",
    "\n",
    "    def train(self, x, y, features=None):\n",
    "        if np.any(features)==None:\n",
    "            features=np.arange(x.shape[1])\n",
    "        if len(y)==0 or len(features)==0 or self.__depth>=self.__maxDepth:\n",
    "            return self.__tree\n",
    "        else:\n",
    "            if self.__depth==0:\n",
    "                self.__tree.append((0,))\n",
    "\n",
    "        \n"
   ]
  }
 ],
 "metadata": {
  "kernelspec": {
   "display_name": "PyCharm (Machine-Learning)",
   "language": "python",
   "name": "pycharm-b417c3b3"
  },
  "language_info": {
   "codemirror_mode": {
    "name": "ipython",
    "version": 3
   },
   "file_extension": ".py",
   "mimetype": "text/x-python",
   "name": "python",
   "nbconvert_exporter": "python",
   "pygments_lexer": "ipython3",
   "version": "3.8.13"
  }
 },
 "nbformat": 4,
 "nbformat_minor": 1
}