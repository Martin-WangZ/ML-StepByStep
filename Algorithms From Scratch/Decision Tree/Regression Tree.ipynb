{
 "cells": [
  {
   "cell_type": "markdown",
   "metadata": {
    "collapsed": true
   },
   "source": [
    "# Regression Tree Implement "
   ]
  },
  {
   "cell_type": "markdown",
   "metadata": {},
   "source": [
    "## Target value should be continual\n",
    "\n",
    "### Input: dataset D\n",
    "\n",
    "### Algorithm Steps:\n",
    "\n",
    "### (1) choose optimal feature and value to split feature space:\n",
    "#### $min_{j,s}[min_{c_1} \\sum_{x_i \\in R_1(j,s)} {(y_i-c_1)^2} + min_{c_2} \\sum_{x_i \\in R_1(j,s)} {(y_i-c_2)^2}]$\n",
    "\n",
    "### (2) set the optimal $(j,s)$ \n",
    "\n",
    "### (3) compute output in each region accroding to $(j,s)$:\n",
    "#### $R_1(j,s)=\\{x|x^j<=s\\},R_2(j,s)=\\{x|x^j>s\\},\\hat{c_m}=\\frac{1}{N}\\sum_{x_i \\in R_m(j,s)}{y_i},x\\in R_m, m =1,2$\n",
    "\n",
    "### (4) perform (1) and (2) until satisfying stop condition\n",
    "\n",
    "### (5) generate regression tree:\n",
    "\n",
    "#### $f(x)=\\sum_{m=1}^{M} \\hat{c_m}I(x\\in R_m)$\n",
    " "
   ]
  },
  {
   "cell_type": "code",
   "execution_count": 1,
   "metadata": {},
   "outputs": [],
   "source": [
    "import numpy as np\n",
    "import pandas as pd"
   ]
  },
  {
   "cell_type": "code",
   "execution_count": 2,
   "metadata": {
    "pycharm": {
     "name": "#%%\n"
    }
   },
   "outputs": [],
   "source": [
    "class RegTree:\n",
    "\n",
    "    def __init__(self,maxDepth=5):\n",
    "        self.__maxDepth=maxDepth\n",
    "        self.__tree = []\n",
    "\n",
    "    def _dataProcessing(self, data):\n",
    "        if isinstance(data, pd.DataFrame):\n",
    "            data = data.to_numpy()\n",
    "        x = data[:, :-1]\n",
    "        y = data[:, -1]\n",
    "        return x, y\n",
    "\n",
    "    def train(self, x, y, depth=0,features=None):\n",
    "        if np.any(features) == None:\n",
    "            features = np.arange(x.shape[1])\n",
    "            c0=np.mean(y)\n",
    "            self.__tree.append((depth,'Root Node',None,None,c0))\n",
    "        if len(features) == 0 or len(y) == 0 or depth>=self.__maxDepth:\n",
    "            return self.__tree\n",
    "        elif len(y)==1:\n",
    "            c0=y[0]\n",
    "            self.__tree.append((depth,'single Node',None,None,c0))\n",
    "            return  self.__tree\n",
    "        elif len(y)==2:\n",
    "            c1=y.min()\n",
    "            c2=y.max()\n",
    "            self.__tree.append((depth,'R1',None,None,c1))\n",
    "            self.__tree.append((depth,'R2',None,None,c2))\n",
    "            return self.__tree\n",
    "        else:\n",
    "            # start building tree\n",
    "            depth+=1\n",
    "            # only a data point\n",
    "            featureL = []\n",
    "            for feature in features:\n",
    "                values = x[:, feature]\n",
    "                valSL = []\n",
    "                for value in values:\n",
    "                    if value==min(values):\n",
    "                        c1=value\n",
    "                        c2=y[values!=value].mean()\n",
    "                        # cond = np.sum((value - c1) ** 2) + np.sum((y[values!=value] - c2) ** 2)\n",
    "                        # cond =np.sum((y[values!=value] - c2) ** 2)\n",
    "                        cond = np.sum((y[values!=value] - c2) ** 2)\n",
    "                    elif value==max(values):\n",
    "                        c1=y[values!=value].mean()\n",
    "                        c2=value\n",
    "                        cond = np.sum((y[values!=value] - c1) ** 2)\n",
    "                    else:\n",
    "                        c1Index = np.flatnonzero(value >= values)\n",
    "                        c2Index = np.flatnonzero(value < values)\n",
    "                        # get region c1\n",
    "                        c1 = y[c1Index].mean()  # all values <= value\n",
    "                        # get region c2\n",
    "                        c2 = y[c2Index].mean()  # all values >  value\n",
    "                        # compute cost\n",
    "                        cond = np.sum((y[c1Index] - c1) ** 2) + np.sum((y[c2Index] - c2) ** 2)\n",
    "                    valSL.append((value, c1, c2, cond))\n",
    "                mv = min(valSL, key=lambda v: v[3])\n",
    "                fvc = (feature, *mv)\n",
    "                # (feature,value,c1,c2,cond)\n",
    "                featureL.append(fvc)\n",
    "            #(feature,value,c1,c2)\n",
    "            mfv = min(featureL, key=lambda v: v[4])[:-1]\n",
    "            #R1=(feature,value,c1)  # all values <= value\n",
    "            R1=mfv[:-1]\n",
    "            #R2=(feature,value,c2)  # all values >  value\n",
    "            R2=np.array(mfv)[[0,1,3]]\n",
    "            self.__tree.append((depth,'R1',*R1))\n",
    "            self.__tree.append((depth,'R2',*R2))\n",
    "            # remove the feature in feature space\n",
    "            left = np.flatnonzero(features != mfv[0])\n",
    "            leftFeatures = features[left]\n",
    "            # partition space into R1 and R2\n",
    "            r1Index = np.flatnonzero(x[:, mfv[0]] <= mfv[1])\n",
    "            r2Index = np.flatnonzero(x[:, mfv[0]] > mfv[1])\n",
    "            r1 = x[r1Index]\n",
    "            y1 = y[r1Index]\n",
    "            r2 = x[r2Index]\n",
    "            y2 = y[r2Index]\n",
    "            treeR1 = self.train(r1, y1, depth,leftFeatures)\n",
    "            treeR2 = self.train(r2, y2, depth,leftFeatures)\n",
    "            # note: treeR2 is the final tree structure\n",
    "            # tree structure = [ Root Node: (depth,feature,value,c1) R1|(),(),.|  R2|..(depth,feature,value,c2)|]\n",
    "            return treeR2"
   ]
  },
  {
   "cell_type": "code",
   "execution_count": 3,
   "metadata": {},
   "outputs": [],
   "source": [
    "# generate history data\n",
    "np.random.seed(42)\n",
    "hx = np.random.randint(5, size=(10, 5))\n",
    "hy = np.random.choice(np.arange(5), size=10)"
   ]
  },
  {
   "cell_type": "code",
   "execution_count": 4,
   "metadata": {},
   "outputs": [
    {
     "name": "stdout",
     "output_type": "stream",
     "text": [
      "[(0, 'Root Node', None, None, 2.3), (1, 'R1', 2, 4, 2.3333333333333335), (1, 'R2', 2.0, 4.0, 4.0), (2, 'R1', 3, 0, 0), (2, 'R2', 3.0, 0.0, 2.1666666666666665), (3, 'R1', 4, 1, 1.5), (3, 'R2', 4.0, 1.0, 3.5), (3, 'R1', None, None, 1), (3, 'R2', None, None, 2), (3, 'R1', None, None, 3), (3, 'R2', None, None, 4), (3, 'R1', 0, 3, 1.3333333333333333), (3, 'R2', 0.0, 3.0, 3.0), (4, 'R1', 4, 4, 1.75), (4, 'R2', 4.0, 4.0, 4.0), (5, 'R1', 1, 4, 2.0), (5, 'R2', 1.0, 4.0, 4.0)]\n"
     ]
    }
   ],
   "source": [
    "dt=RegTree()\n",
    "tree=dt.train(hx,hy)\n",
    "print(tree)"
   ]
  }
 ],
 "metadata": {
  "kernelspec": {
   "display_name": "PyCharm (Machine-Learning)",
   "language": "python",
   "name": "pycharm-b417c3b3"
  },
  "language_info": {
   "codemirror_mode": {
    "name": "ipython",
    "version": 3
   },
   "file_extension": ".py",
   "mimetype": "text/x-python",
   "name": "python",
   "nbconvert_exporter": "python",
   "pygments_lexer": "ipython3",
   "version": "3.8.13"
  }
 },
 "nbformat": 4,
 "nbformat_minor": 1
}