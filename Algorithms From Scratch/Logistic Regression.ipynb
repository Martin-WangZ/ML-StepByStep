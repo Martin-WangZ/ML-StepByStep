{
 "cells": [
  {
   "cell_type": "markdown",
   "metadata": {
    "collapsed": true
   },
   "source": [
    "# Logistic Regression Implement"
   ]
  },
  {
   "cell_type": "markdown",
   "metadata": {},
   "source": [
    "## $ln\\frac{p(Y=1)}{1-p(Y=1)}=w  x <=> p(Y=1)=\\frac{1} {1+e^{-(w x)}}=\\frac{e^{(w x)}} {1+e^{(w x)}}, p(Y=0)=\\frac{1} {1+e^{(w x)}}$\n",
    "\n",
    "## $loss=-\\sum_{n=1}^{N}y ln \\hat{y}+(1-y)ln (1-\\hat{y})=-\\sum_{n=1}^{N}{[y_n log \\frac{\\hat{y}}{1-\\hat{y}}+log(1- \\hat{y})]}=-\\sum_{n=1}^{N}{[y_n(w x_n)-log(1+e^{w x_n})]}$\n",
    "\n",
    "## $gradient|_w=-\\sum_{n=1}^{N}{y_n x_n - \\frac{x_n e^{w x_n}}{1+e^{w x_n}}}=-\\sum_{n=1}^{N}[{y_n x_n - \\frac{e^{w x_n}}{1+e^{w x_n}}x_n}]=-\\sum_{n=1}^{N}{[y_n - \\frac{e^{w x_n}}{1+e^{w x_n}}]x_n}=-\\sum_{n=1}^{N}{(y_n-\\frac{1}{1+e^{-(wx_n+b)}})x_n}$ \n",
    "\n",
    "## $gradient|_b=-\\sum_{n=1}^{N}{[y_n-\\frac{1}{1+e^{-(wx_n+b)}}]}$"
   ]
  },
  {
   "cell_type": "code",
   "execution_count": 1,
   "metadata": {},
   "outputs": [],
   "source": [
    "import numpy as np"
   ]
  },
  {
   "cell_type": "code",
   "execution_count": null,
   "metadata": {},
   "outputs": [],
   "source": [
    "class LR:\n",
    "    def __init__(self,x):\n",
    "        # initialize weights (10,)\n",
    "        self.__w=np.zeros(x.shape[1])\n",
    "        self.__b=0\n",
    "\n",
    "    def _sigmoid(self,x):\n",
    "        p1=1/(1+np.exp(- (x @ self.__w+self.__b)))\n",
    "        return p1\n",
    "\n",
    "    def _gradient(self,x,y):\n",
    "        self.__w+=np.sum([(y[n]-self._sigmoid(x[n]))*x[n] for n in range(x.shape[0])])\n",
    "        self.__b+=np.sum([y[n]-self._sigmoid(x[n]) for n in range(x.shape[0])])\n",
    "\n",
    "\n",
    "    def train(self,x,y):\n",
    "\n",
    "\n",
    "\n",
    "\n",
    "\n"
   ]
  }
 ],
 "metadata": {
  "kernelspec": {
   "display_name": "PyCharm (Machine-Learning)",
   "language": "python",
   "name": "pycharm-b417c3b3"
  },
  "language_info": {
   "codemirror_mode": {
    "name": "ipython",
    "version": 3
   },
   "file_extension": ".py",
   "mimetype": "text/x-python",
   "name": "python",
   "nbconvert_exporter": "python",
   "pygments_lexer": "ipython3",
   "version": "3.8.13"
  }
 },
 "nbformat": 4,
 "nbformat_minor": 1
}