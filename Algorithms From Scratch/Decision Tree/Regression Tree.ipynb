{
 "cells": [
  {
   "cell_type": "markdown",
   "metadata": {
    "collapsed": true
   },
   "source": [
    "# Regression Tree Implement "
   ]
  },
  {
   "cell_type": "markdown",
   "metadata": {},
   "source": [
    "## Target value should be continual\n",
    "\n",
    "### Input: dataset D\n",
    "\n",
    "### Algorithm Steps:\n",
    "\n",
    "### (1) choose optimal feature and value to split feature space:\n",
    "#### $min_{j,s}[min_{c_1} \\sum_{x_i \\in R_1(j,s)} {(y_i-c_1)^2} + min_{c_2} \\sum_{x_i \\in R_1(j,s)} {(y_i-c_2)^2}]$\n",
    "\n",
    "### (2) set the optimal $(j,s)$ \n",
    "\n",
    "### (3) compute output in each region accroding to $(j,s)$:\n",
    "#### $R_1(j,s)=\\{x|x^j<=s\\},R_2(j,s)=\\{x|x^j>s\\},\\hat{c_m}=\\frac{1}{N}\\sum_{x_i \\in R_m(j,s)}{y_i},x\\in R_m, m =1,2$\n",
    "\n",
    "### (4) perform (1) and (2) until satisfying stop condition\n",
    "\n",
    "### (5) generate regression tree:\n",
    "\n",
    "#### $f(x)=\\sum_{m=1}^{M} \\hat{c_m}I(x\\in R_m)$\n",
    " "
   ]
  },
  {
   "cell_type": "code",
   "execution_count": 1,
   "metadata": {},
   "outputs": [],
   "source": [
    "import numpy as np\n",
    "import pandas as pd"
   ]
  },
  {
   "cell_type": "code",
   "execution_count": 2,
   "metadata": {
    "pycharm": {
     "name": "#%%\n"
    }
   },
   "outputs": [],
   "source": [
    "class RegTree():\n",
    "\n",
    "    def __init__(self):\n",
    "        self.__tree = []\n",
    "\n",
    "    def _dataProcessing(self, data):\n",
    "        if isinstance(data, pd.DataFrame):\n",
    "            data = data.to_numpy()\n",
    "        x = data[:, :-1]\n",
    "        y = data[:, -1]\n",
    "        return x, y\n",
    "\n",
    "    def train(self, x, y, features=None):\n",
    "        if features == None:\n",
    "            features = np.arange(x.shape[1])\n",
    "        if len(features) == 0 or len(y) == 0:\n",
    "            return self.__tree\n",
    "        featureL = []\n",
    "        for feature in features:\n",
    "            values = x[:, feature]\n",
    "            valSL = []\n",
    "            for value in values:\n",
    "                c1Index = np.nonzero(value >= values)\n",
    "                c2Index = np.nonzero(value < values)\n",
    "                # get region c1\n",
    "                c1 = y[c1Index].mean()  # all values <= value\n",
    "                # get region c2\n",
    "                c2 = y[c2Index].mean()  # all values >  value\n",
    "                # compute cost\n",
    "                cond = np.sum((y[c1Index] - c1) ** 2) + np.sum((y[c2Index] - c2) ** 2)\n",
    "                valSL.append((value, c1, c2, cond))\n",
    "            mv = min(valSL, key=lambda v: v[3])\n",
    "            fvc = (feature, *mv)\n",
    "            # (feature,value,c1,c2,cond)\n",
    "            featureL.append(fvc)\n",
    "        #(feature,value,c1,c2)\n",
    "        mfv = min(featureL, key=lambda v: v[4])[:-1]\n",
    "        self.__tree.append(mfv)\n",
    "        # remove the feature in feature space\n",
    "        left = np.nonzero(features != mfv[0])\n",
    "        leftFeatures = features[left]\n",
    "        # partition space into R1 and R2\n",
    "        r1Index = np.nonzero(x[:, mfv[0]] <= mfv[1])\n",
    "        r2Index = np.nonzero(x[:, mfv[0]] > mfv[1])\n",
    "        r1 = x[r1Index, :]\n",
    "        y1 = y[r1Index]\n",
    "        r2 = x[r2Index, :]\n",
    "        y2 = y[r2Index, :]\n",
    "        treeR1 = self.train(r1, y1, leftFeatures)\n",
    "        treeR2 = self.train(r2, y2, leftFeatures)\n",
    "        # note: treeR2 is the final tree structure\n",
    "        return treeR1, treeR2\n",
    "\n",
    "    # tree structure = [(feature,value,c1,c2),(),(),...()]\n",
    "\n",
    "    def predict(self, x):\n",
    "        predictL = []\n",
    "        for row in x:\n",
    "            matchedL = []\n",
    "            for node in self.__tree:\n",
    "\n",
    "\n",
    "\n"
   ]
  }
 ],
 "metadata": {
  "kernelspec": {
   "display_name": "PyCharm (Machine-Learning)",
   "language": "python",
   "name": "pycharm-b417c3b3"
  },
  "language_info": {
   "codemirror_mode": {
    "name": "ipython",
    "version": 3
   },
   "file_extension": ".py",
   "mimetype": "text/x-python",
   "name": "python",
   "nbconvert_exporter": "python",
   "pygments_lexer": "ipython3",
   "version": "3.8.13"
  }
 },
 "nbformat": 4,
 "nbformat_minor": 1
}