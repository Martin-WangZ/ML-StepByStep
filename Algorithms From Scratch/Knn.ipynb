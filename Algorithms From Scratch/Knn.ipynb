{
 "cells": [
  {
   "cell_type": "markdown",
   "metadata": {},
   "source": [
    "# Knn Algorithm Implement"
   ]
  },
  {
   "cell_type": "markdown",
   "metadata": {},
   "source": [
    "## k is the number of the closest data points to a specific data point"
   ]
  },
  {
   "cell_type": "markdown",
   "metadata": {},
   "source": [
    "### No trainning process"
   ]
  },
  {
   "cell_type": "markdown",
   "metadata": {},
   "source": [
    "### Algorithm Steps:\n",
    "1. determine K;\n",
    "2. iterate all data points "
   ]
  },
  {
   "cell_type": "code",
   "execution_count": 1,
   "metadata": {},
   "outputs": [],
   "source": [
    "import numpy as np\n",
    "import pandas as pd\n",
    "from numpy.linalg import norm"
   ]
  },
  {
   "cell_type": "code",
   "execution_count": 2,
   "metadata": {
    "pycharm": {
     "name": "#%%\n"
    }
   },
   "outputs": [],
   "source": [
    "class Knn():\n",
    "    def __init__(self, k=5):\n",
    "        self.__k = k\n",
    "        self.__x = None\n",
    "        self.__y = None\n",
    "        self.__predict = None\n",
    "        self.__label = None\n",
    "\n",
    "    def resetK(self, k):\n",
    "        self.__k = k\n",
    "\n",
    "    def _dataProcessing(self, data):\n",
    "        if isinstance(data, pd.DataFrame):\n",
    "            data = data.to_numpy()\n",
    "        self.__x = data[:, :-1]\n",
    "        self.__y = data[:, -1]\n",
    "\n",
    "    def predict(self, Newdata):\n",
    "        if isinstance(Newdata, pd.DataFrame):\n",
    "            Newdata = Newdata.to_numpy()\n",
    "        x, y = Newdata[:, :-1], Newdata[:, -1]\n",
    "        y_hatL = []\n",
    "        for i in range(x.shape[0]):\n",
    "            distance = [(norm(x[i, :] - x[j, :]), j) for j in range(self.__x.shape[0])]\n",
    "            sortT = sorted(distance, key=lambda t: t[0], reverse=True)\n",
    "            topk = sortT[:self.__k]\n",
    "            label = [t[1] for t in topk]\n",
    "            values, counts = np.unique(label, return_counts=True)\n",
    "            index = np.argmax(counts)\n",
    "            y_hat = values[index]\n",
    "            print(f'x={x[i, :]} => y_hat ={y_hat}')\n",
    "            y_hatL.append(y_hat)\n",
    "        self.__predict = y_hatL\n",
    "        self.__label = y\n",
    "\n",
    "    def accuracy(self):\n",
    "        return np.mean(self.__predict == self.__label)"
   ]
  },
  {
   "cell_type": "code",
   "execution_count": 3,
   "metadata": {},
   "outputs": [],
   "source": [
    "# generate history data\n",
    "np.random.seed(42)\n",
    "hx=np.random.randint(10,size=(10,5))\n",
    "hy=np.random.choice(np.arange(3),size=(10,1),replace=True)\n",
    "hdata=np.hstack((hx,hy))\n",
    "\n",
    "# generate test data\n",
    "np.random.seed(0)\n",
    "tx=np.random.randint(10,size=(10,5))\n",
    "ty=np.random.choice(np.arange(3),size=(10,1),replace=True)\n",
    "tdata=np.hstack((tx,ty))"
   ]
  },
  {
   "cell_type": "code",
   "execution_count": 4,
   "metadata": {},
   "outputs": [
    {
     "name": "stdout",
     "output_type": "stream",
     "text": [
      "x=[5 0 3 3 7] => y_hat =2\n",
      "x=[9 3 5 2 4] => y_hat =2\n",
      "x=[7 6 8 8 1] => y_hat =0\n",
      "x=[6 7 7 8 1] => y_hat =0\n",
      "x=[5 9 8 9 4] => y_hat =0\n",
      "x=[3 0 3 5 0] => y_hat =1\n",
      "x=[2 3 8 1 3] => y_hat =0\n",
      "x=[3 3 7 0 1] => y_hat =0\n",
      "x=[9 9 0 4 7] => y_hat =2\n",
      "x=[3 2 7 2 0] => y_hat =0\n",
      "accuracy=0.1\n"
     ]
    }
   ],
   "source": [
    "model=Knn()\n",
    "model._dataProcessing(hdata)\n",
    "model.predict(tdata)\n",
    "accuracy=model.accuracy()\n",
    "print(f'accuracy={accuracy}')"
   ]
  }
 ],
 "metadata": {
  "kernelspec": {
   "display_name": "PyCharm (Machine-Learning)",
   "language": "python",
   "name": "pycharm-b417c3b3"
  },
  "language_info": {
   "codemirror_mode": {
    "name": "ipython",
    "version": 3
   },
   "file_extension": ".py",
   "mimetype": "text/x-python",
   "name": "python",
   "nbconvert_exporter": "python",
   "pygments_lexer": "ipython3",
   "version": "3.8.13"
  }
 },
 "nbformat": 4,
 "nbformat_minor": 1
}
