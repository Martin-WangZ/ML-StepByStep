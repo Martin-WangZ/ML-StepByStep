{
 "cells": [
  {
   "cell_type": "markdown",
   "metadata": {
    "collapsed": true,
    "pycharm": {
     "name": "#%% md\n"
    }
   },
   "source": [
    "# SoftMax Implement\n",
    "\n",
    "## $p(X=k)=\\hat{y}=\\frac{e^{(w_kx+b_k)}}{\\sum_{k=1}^{K}{e^{w_k x+b_k}}}$\n",
    "\n",
    "## $loss=-\\sum_{n=1}^{N}{\\sum_{i=1}^{K}{y_n log (p(X=k))}}$\n",
    "\n",
    "## $gradient|w_j=-\\sum_{n=1}^{N}{t_{nj}x_n(1-\\hat{y}_{nj})}$\n",
    "## $gradient|b_j=-\\sum_{n=1}^{N}{t_{nj}(1-\\hat{y}_{nj})}$"
   ]
  },
  {
   "cell_type": "code",
   "execution_count": 1,
   "metadata": {
    "pycharm": {
     "name": "#%%\n"
    }
   },
   "outputs": [],
   "source": [
    "import numpy as np"
   ]
  },
  {
   "cell_type": "code",
   "execution_count": null,
   "metadata": {
    "pycharm": {
     "name": "#%%\n"
    }
   },
   "outputs": [],
   "source": [
    "class Mc:\n",
    "    def __init__(self):\n",
    "\n"
   ]
  }
 ],
 "metadata": {
  "kernelspec": {
   "display_name": "PyCharm (Machine-Learning)",
   "language": "python",
   "name": "pycharm-b417c3b3"
  },
  "language_info": {
   "codemirror_mode": {
    "name": "ipython",
    "version": 3
   },
   "file_extension": ".py",
   "mimetype": "text/x-python",
   "name": "python",
   "nbconvert_exporter": "python",
   "pygments_lexer": "ipython3",
   "version": "3.8.13"
  }
 },
 "nbformat": 4,
 "nbformat_minor": 1
}