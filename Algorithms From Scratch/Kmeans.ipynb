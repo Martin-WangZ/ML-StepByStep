{
 "cells": [
  {
   "cell_type": "markdown",
   "metadata": {
    "collapsed": true,
    "pycharm": {
     "name": "#%% md\n"
    }
   },
   "source": [
    "# Kmeans Implement (unsupervised learning)"
   ]
  },
  {
   "cell_type": "code",
   "execution_count": 1,
   "metadata": {
    "pycharm": {
     "name": "#%%\n"
    }
   },
   "outputs": [],
   "source": [
    "import numpy as np"
   ]
  },
  {
   "cell_type": "code",
   "execution_count": 2,
   "metadata": {
    "pycharm": {
     "name": "#%%\n"
    }
   },
   "outputs": [],
   "source": [
    "class Kmeans:\n",
    "    def __init__(self,k=3):\n",
    "        self.__k=k\n",
    "    def setK(self,k):\n",
    "        self.__k=k\n",
    "    def train(self,x):\n",
    "        # randomly select k data points as k clusters\n",
    "        iniCIndex=np.random.choice(np.arange(x.shape[0]),self.__k,replace=False)\n",
    "        # another indexes of data points\n",
    "        diffIndex=np.setdiff1d(np.arange(x.shape[0]),iniCIndex)\n",
    "        # get k data points of clusters\n",
    "        means=x[iniCIndex]\n",
    "        # another data points\n",
    "        another=x[diffIndex]\n",
    "        # initialize k clusters with their families\n",
    "        clusters= {k:means[k] for k in range(self.__k)}\n",
    "        while True:\n",
    "            # which cluster data points belong to\n",
    "            for row in another:\n",
    "                disL=[]\n",
    "                for k,mean in enumerate(means):\n",
    "                    distance=np.linalg.norm(row-mean)\n",
    "                    disL.append((distance,k))\n",
    "                # find the closest cluster to the current data point\n",
    "                belong=min(disL,key=lambda i:i[0])\n",
    "                # add the data point to that cluster family\n",
    "                clusters[belong[1]].append(row)\n",
    "            # update means\n",
    "            count=0\n",
    "            for k,v in clusters.items():\n",
    "                # compute each cluster mean as new cluster center\n",
    "                mean=np.array(v).mean(axis=0)\n",
    "                # if the cluster center not change, count + 1\n",
    "                if np.all(mean==means[k]):\n",
    "                    count+=1\n",
    "                # update mean\n",
    "                means[k]=mean\n",
    "                # update cluster mean\n",
    "                clusters[k]=mean\n",
    "            # update dataset\n",
    "            another=x\n",
    "            # if all cluster centers do not change, then return\n",
    "            if count==self.__k:\n",
    "                return means\n",
    "            # else continue until converge (k clusters not change anymore)\n",
    "            else:\n",
    "                continue"
   ]
  }
 ],
 "metadata": {
  "kernelspec": {
   "display_name": "PyCharm (Machine-Learning)",
   "language": "python",
   "name": "pycharm-b417c3b3"
  },
  "language_info": {
   "codemirror_mode": {
    "name": "ipython",
    "version": 3
   },
   "file_extension": ".py",
   "mimetype": "text/x-python",
   "name": "python",
   "nbconvert_exporter": "python",
   "pygments_lexer": "ipython3",
   "version": "3.8.13"
  }
 },
 "nbformat": 4,
 "nbformat_minor": 1
}