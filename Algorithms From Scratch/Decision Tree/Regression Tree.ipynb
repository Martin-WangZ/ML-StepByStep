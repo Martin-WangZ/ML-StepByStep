{
 "cells": [
  {
   "cell_type": "markdown",
   "metadata": {
    "collapsed": true
   },
   "source": [
    "# Regression Tree Implement "
   ]
  },
  {
   "cell_type": "markdown",
   "metadata": {},
   "source": [
    "## Target value should be continual\n",
    "\n",
    "### Input: dataset D\n",
    "\n",
    "### Algorithm Steps:\n",
    "\n",
    "### (1) choose optimal feature and value to split feature space:\n",
    "#### $min_{j,s}[min_{c_1} \\sum_{x_i \\in R_1(j,s)} {(y_i-c_1)^2} + min_{c_2} \\sum_{x_i \\in R_1(j,s)} {(y_i-c_2)^2}]$\n",
    "\n",
    "### (2) set the optimal $(j,s)$ \n",
    "\n",
    "### (3) compute output in each region accroding to $(j,s)$:\n",
    "#### $R_1(j,s)=\\{x|x^j<=s\\},R_2(j,s)=\\{x|x^j>s\\},\\hat{c_m}=\\frac{1}{N}\\sum_{x_i \\in R_m(j,s)}{y_i},x\\in R_m, m =1,2$\n",
    "\n",
    "### (4) perform (1) and (2) until satisfying stop condition\n",
    "\n",
    "### (5) generate regression tree:\n",
    "\n",
    "#### $f(x)=\\sum_{m=1}^{M} \\hat{c_m}I(x\\in R_m)$\n",
    " "
   ]
  },
  {
   "cell_type": "code",
   "execution_count": 1,
   "metadata": {},
   "outputs": [],
   "source": [
    "import pandas as pd\n",
    "import numpy as np"
   ]
  },
  {
   "cell_type": "code",
   "execution_count": 1,
   "metadata": {
    "pycharm": {
     "name": "#%%\n"
    }
   },
   "outputs": [
    {
     "ename": "SyntaxError",
     "evalue": "unexpected EOF while parsing (1309402120.py, line 3)",
     "output_type": "error",
     "traceback": [
      "\u001B[1;36m  Input \u001B[1;32mIn [1]\u001B[1;36m\u001B[0m\n\u001B[1;33m    \u001B[0m\n\u001B[1;37m    ^\u001B[0m\n\u001B[1;31mSyntaxError\u001B[0m\u001B[1;31m:\u001B[0m unexpected EOF while parsing\n"
     ]
    }
   ],
   "source": [
    "\n",
    "\n",
    "class RegTree():\n",
    "\n",
    "    def __init__(self,x):\n",
    "        self.__features=np.arange(x.shape[1])\n",
    "        self.__tree=[]\n",
    "\n",
    "    def _dataProcessing(self, data):\n",
    "        if isinstance(data, pd.DataFrame):\n",
    "            data=data.to_numpy()\n",
    "        x=data[:,:-1]\n",
    "        y=data[:,-1]\n",
    "        return x,y\n",
    "\n",
    "    def train(self,x,y):\n",
    "        if self.__features==0 or len(y)==0:\n",
    "            return self.__tree\n",
    "        featureL=[]\n",
    "        for feature in self.__features:\n",
    "            values=x[:,feature]\n",
    "            valSL=[]\n",
    "            for value in values:\n",
    "                c1Index=np.nonzero(value>=values)\n",
    "                c2Index=np.nonzero(value<values)\n",
    "                # get region c1\n",
    "                c1=np.array(y)[c1Index].mean() # all values <= value\n",
    "                # get region c2\n",
    "                c2=np.array(y)[c2Index].mean() # all values >  value\n",
    "                # compute cost\n",
    "                cond=np.sum((np.array(y)[c1Index]-c1)**2)+np.sum((np.array(y)[c2Index]-c2)**2)\n",
    "                valSL.append((value,c1,c2,cond))\n",
    "            mv=min(valSL,key=lambda v:v[3])\n",
    "            fvc=(feature,*mv)\n",
    "            # (feature,value,c1,c2,cond)\n",
    "            featureL.append(fvc)\n",
    "        #(feature,value,c1,c2)\n",
    "        mfv=min(featureL,key=lambda v:v[4])[:-1]\n",
    "        self.__tree.append(mfv)\n",
    "        # remove the feature in feature space\n",
    "        left=np.nonzero(self.__features!=mfv[0])\n",
    "        self.__features=self.__features[left]\n",
    "        # partition space into R1 and R2\n",
    "        r1Index=np.nonzero(x[:,mfv[0]]<=mfv[1])\n",
    "        r2Index=np.nonzero(x[:,mfv[0]]>mfv[1])\n",
    "        r1=x[r1Index,:]\n",
    "        y1=y[r1Index]\n",
    "        r2=x[r2Index,:]\n",
    "        y2=y[r2Index,:]\n",
    "        self.train(r1,y1)\n",
    "        self.train(r2,y2)\n",
    "\n",
    "\n",
    "\n",
    "\n",
    "\n",
    "\n"
   ]
  }
 ],
 "metadata": {
  "kernelspec": {
   "display_name": "PyCharm (Machine-Learning)",
   "language": "python",
   "name": "pycharm-b417c3b3"
  },
  "language_info": {
   "codemirror_mode": {
    "name": "ipython",
    "version": 3
   },
   "file_extension": ".py",
   "mimetype": "text/x-python",
   "name": "python",
   "nbconvert_exporter": "python",
   "pygments_lexer": "ipython3",
   "version": "3.8.13"
  }
 },
 "nbformat": 4,
 "nbformat_minor": 1
}