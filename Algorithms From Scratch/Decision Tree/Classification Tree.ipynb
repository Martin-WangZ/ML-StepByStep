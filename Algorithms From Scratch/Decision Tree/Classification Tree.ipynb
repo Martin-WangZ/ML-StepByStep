{
 "cells": [
  {
   "cell_type": "markdown",
   "metadata": {
    "collapsed": true
   },
   "source": [
    "# Classification Tree Implement With Gini"
   ]
  },
  {
   "cell_type": "code",
   "execution_count": 1,
   "metadata": {},
   "outputs": [],
   "source": [
    "import numpy as np\n",
    "import pandas as pd"
   ]
  },
  {
   "cell_type": "code",
   "execution_count": null,
   "metadata": {
    "pycharm": {
     "name": "#%%\n"
    }
   },
   "outputs": [],
   "source": [
    "class CT:\n",
    "    def __init__(self, minGini=0.01):\n",
    "        self.__tree = []\n",
    "        self.__minGini = minGini\n",
    "\n",
    "    def dataProcessing(self, data):\n",
    "        if isinstance(data, pd.DataFrame):\n",
    "            data = data.to_numpy()\n",
    "        x = data[:, :-1]\n",
    "        y = data[:, -1]\n",
    "        return x, y\n",
    "\n",
    "    def _gini(self, y):\n",
    "        values, counts = np.unique(y, return_counts=True)\n",
    "        p = counts / len(y)\n",
    "        gini = 1 - np.sum(p ** 2)\n",
    "        return gini\n",
    "\n",
    "    def _condGini(self, feature, value, x, y):\n",
    "        x = x[:, feature]\n",
    "        subIndex1 = np.nonzero(x == value)\n",
    "        subIndex2 = np.nonzero(x != value)\n",
    "        y1 = y[subIndex1]\n",
    "        y2 = y[subIndex2]\n",
    "        condGini = len(y1) / len(y) * self._gini(y1) + len(y2) / len(y) * self._gini(y2)\n",
    "        return condGini\n",
    "\n",
    "    def train(self, x, y, features=None):\n",
    "\n",
    "\n",
    "\n",
    "\n",
    "\n",
    "\n"
   ]
  }
 ],
 "metadata": {
  "kernelspec": {
   "display_name": "PyCharm (Machine-Learning)",
   "language": "python",
   "name": "pycharm-b417c3b3"
  },
  "language_info": {
   "codemirror_mode": {
    "name": "ipython",
    "version": 3
   },
   "file_extension": ".py",
   "mimetype": "text/x-python",
   "name": "python",
   "nbconvert_exporter": "python",
   "pygments_lexer": "ipython3",
   "version": "3.8.13"
  }
 },
 "nbformat": 4,
 "nbformat_minor": 1
}