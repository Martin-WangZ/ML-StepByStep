{
 "cells": [
  {
   "cell_type": "markdown",
   "metadata": {
    "collapsed": true
   },
   "source": [
    "# Classification Tree Implement With Gini"
   ]
  },
  {
   "cell_type": "markdown",
   "metadata": {},
   "source": [
    "### $Gini(p)=1-\\sum_{k=1}^{K}{p_k^2}$\n",
    "### $Gini(D)=1-\\sum_{k=1}^{K}{(\\frac{|C_k|}{|D|})^2}$ , Given Dataset D\n",
    "### $Gini(D,A)=\\frac{|D_1|}{|D|}Gini(D_1)+\\frac{|D_2|}{|D|}Gini(D_2)$"
   ]
  },
  {
   "cell_type": "code",
   "execution_count": 1,
   "metadata": {},
   "outputs": [],
   "source": [
    "import numpy as np"
   ]
  },
  {
   "cell_type": "code",
   "execution_count": 2,
   "metadata": {
    "pycharm": {
     "name": "#%%\n"
    }
   },
   "outputs": [],
   "source": [
    "class CT:\n",
    "    def __init__(self, maxDepth=5, maxGini=0.01):\n",
    "        self.__tree = []\n",
    "        self.__maxDepth = maxDepth\n",
    "        self.__maxGini = maxGini\n",
    "\n",
    "    def dataProcessing(self, data):\n",
    "        if isinstance(data, pd.DataFrame):\n",
    "            data = data.to_numpy()\n",
    "        x = data[:, :-1]\n",
    "        y = data[:, -1]\n",
    "        return x, y\n",
    "\n",
    "    def _gini(self, y):\n",
    "        values, counts = np.unique(y, return_counts=True)\n",
    "        p = counts / len(y)\n",
    "        gini = 1 - np.sum(p ** 2)\n",
    "        return gini\n",
    "\n",
    "    def _condGini(self, feature, value, x, y):\n",
    "        x = x[:, feature]\n",
    "        subIndex1 = np.nonzero(x == value)\n",
    "        subIndex2 = np.nonzero(x != value)\n",
    "        y1 = y[subIndex1]\n",
    "        y2 = y[subIndex2]\n",
    "        condGini = len(y1) / len(y) * self._gini(y1) + len(y2) / len(y) * self._gini(y2)\n",
    "        return condGini\n",
    "\n",
    "    def train(self, x, y, depth=0, features=None):\n",
    "        if np.any(features) == None:\n",
    "            features = np.arange(x.shape[1])\n",
    "        if len(y) == 0 or len(features) == 0 or depth >= self.__maxDepth:\n",
    "            return self.__tree\n",
    "        else:\n",
    "            if depth == 0:\n",
    "                values, counts = np.unique(y, return_counts=True)\n",
    "                value = values[np.argmax(counts)]\n",
    "                self.__tree.append((depth, 'Root Node', None, None, value))\n",
    "            depth += 1\n",
    "            # compute minimal conGini\n",
    "            condGiniL = []\n",
    "            for feature in features:\n",
    "                for value in values:\n",
    "                    condGini = self._condGini(feature, value, x, y)\n",
    "                    condGiniL.append((feature, value, condGini))\n",
    "            minGini = min(condGiniL, key=lambda i: i[2])\n",
    "            if minGini[2]>=self.__maxGini:\n",
    "                return self.__tree\n",
    "            # partition data to two branches\n",
    "            sf=x[:,minGini[0]]\n",
    "            sv=minGini[1]\n",
    "            x1=x[sf==sv]\n",
    "            y1=y[sf==sv]\n",
    "            values,counts=np.unique(y1,return_counts=True)\n",
    "            value=values[np.argmax(counts)]\n",
    "            self.__tree.append((depth,minGini[0],sv,value))\n",
    "            x2=x[sf!=sv]\n",
    "            y2=y[sf!=sv]\n",
    "            values,counts=np.unique(y2,return_counts=True)\n",
    "            value=values[np.argmax(counts)]\n",
    "            self.__tree.append((depth,minGini[0],sv,value))\n",
    "            leftFeatures=features[features!=minGini[0]]\n",
    "            R1=self.train(x1,y1,depth,leftFeatures)\n",
    "            R2=self.train(x2,y2,depth,leftFeatures)\n",
    "            return R2"
   ]
  }
 ],
 "metadata": {
  "kernelspec": {
   "display_name": "PyCharm (Machine-Learning)",
   "language": "python",
   "name": "pycharm-b417c3b3"
  },
  "language_info": {
   "codemirror_mode": {
    "name": "ipython",
    "version": 3
   },
   "file_extension": ".py",
   "mimetype": "text/x-python",
   "name": "python",
   "nbconvert_exporter": "python",
   "pygments_lexer": "ipython3",
   "version": "3.8.13"
  }
 },
 "nbformat": 4,
 "nbformat_minor": 1
}