{
 "cells": [
  {
   "cell_type": "markdown",
   "metadata": {
    "collapsed": true
   },
   "source": [
    "# Naive Bayes Alrogithm Implement"
   ]
  },
  {
   "cell_type": "markdown",
   "metadata": {},
   "source": [
    "### Assumption: conditional probs over features are independent "
   ]
  },
  {
   "cell_type": "markdown",
   "metadata": {},
   "source": [
    "## $p(Y=c_k|X=x)=\\frac{p(X=x|Y=c_k)p(Y=c_k)}{\\sum_k{p(X=x|Y=c_k)p(Y=c_k)}}=\\frac{p(Y=c_k)\\prod_j{p(X^j=x^j|Y=c_k)}}{\\sum_k{p(Y=c_k)\\prod_j{p(X^j=x^j|Y=c_k)}}}$ \n"
   ]
  },
  {
   "cell_type": "markdown",
   "metadata": {},
   "source": [
    "### $\\sum_k{p(Y=c_k)\\prod_j{p(X^j=x^j|Y=c_k)}}$ is constant so we have:\n",
    "### $\\arg_{c_k}\\max{p(Y=c_k|X=x)}=p(Y=c_k)\\prod_j{p(X^j=x^j|Y=c_k)}$"
   ]
  },
  {
   "cell_type": "code",
   "execution_count": null,
   "metadata": {},
   "outputs": [],
   "source": [
    "class NaiveBayes():\n",
    "    def __init__(self):\n",
    "        super().__init__()\n",
    "    def "
   ]
  }
 ],
 "metadata": {
  "kernelspec": {
   "display_name": "Python 3 (ipykernel)",
   "language": "python",
   "name": "python3"
  },
  "language_info": {
   "codemirror_mode": {
    "name": "ipython",
    "version": 3
   },
   "file_extension": ".py",
   "mimetype": "text/x-python",
   "name": "python",
   "nbconvert_exporter": "python",
   "pygments_lexer": "ipython3",
   "version": "3.8.13"
  }
 },
 "nbformat": 4,
 "nbformat_minor": 1
}