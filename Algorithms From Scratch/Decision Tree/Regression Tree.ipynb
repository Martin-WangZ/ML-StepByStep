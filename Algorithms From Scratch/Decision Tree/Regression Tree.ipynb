{
 "cells": [
  {
   "cell_type": "markdown",
   "metadata": {
    "collapsed": true
   },
   "source": [
    "# Regression Tree Implement "
   ]
  },
  {
   "cell_type": "markdown",
   "metadata": {},
   "source": [
    "## Target value should be continual\n",
    "\n",
    "### Input: dataset D\n",
    "\n",
    "### Algorithm Steps:\n",
    "\n",
    "### (1) choose optimal feature and value to split feature space:\n",
    "#### $min_{j,s}[min_{c_1} \\sum_{x_i \\in R_1(j,s)} {(y_i-c_1)^2} + min_{c_2} \\sum_{x_i \\in R_1(j,s)} {(y_i-c_2)^2}]$\n",
    "\n",
    "### (2) set the optimal $(j,s)$ \n",
    "\n",
    "### (3) compute output in each region accroding to $(j,s)$:\n",
    "#### $R_1(j,s)=\\{x|x^j<=s\\},R_2(j,s)=\\{x|x^j>s\\},\\hat{c_m}=\\frac{1}{N}\\sum_{x_i \\in R_m(j,s)}{y_i},x\\in R_m, m =1,2$\n",
    "\n",
    "### (4) perform (1) and (2) until satisfying stop condition\n",
    "\n",
    "### (5) generate regression tree:\n",
    "\n",
    "#### $f(x)=\\sum_{m=1}^{M} \\hat{c_m}I(x\\in R_m)$\n",
    " "
   ]
  },
  {
   "cell_type": "code",
   "execution_count": 1,
   "metadata": {},
   "outputs": [],
   "source": [
    "import numpy as np\n"
   ]
  },
  {
   "cell_type": "code",
   "execution_count": null,
   "outputs": [],
   "source": [],
   "metadata": {
    "collapsed": false,
    "pycharm": {
     "name": "#%%\n"
    }
   }
  }
 ],
 "metadata": {
  "kernelspec": {
   "name": "pycharm-b417c3b3",
   "language": "python",
   "display_name": "PyCharm (Machine-Learning)"
  },
  "language_info": {
   "codemirror_mode": {
    "name": "ipython",
    "version": 3
   },
   "file_extension": ".py",
   "mimetype": "text/x-python",
   "name": "python",
   "nbconvert_exporter": "python",
   "pygments_lexer": "ipython3",
   "version": "3.8.13"
  }
 },
 "nbformat": 4,
 "nbformat_minor": 1
}