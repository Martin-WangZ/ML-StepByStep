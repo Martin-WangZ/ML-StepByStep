{
 "cells": [
  {
   "cell_type": "markdown",
   "metadata": {},
   "source": [
    "# Perceptron Algorithm Implement\n"
   ]
  },
  {
   "cell_type": "markdown",
   "metadata": {},
   "source": [
    "### Assumption: The dataset should be linearly separable"
   ]
  },
  {
   "cell_type": "markdown",
   "metadata": {},
   "source": [
    "### 1. Model: $y=sign (w^T x +b)$, where sign(x)=+1 if x>=0 else  sign(x)=-1\n"
   ]
  },
  {
   "cell_type": "markdown",
   "metadata": {},
   "source": [
    "### 2.  Loss: $L(w,b)=-\\frac {1} {||w||} \\sum_{(x_i,y_i) \\in K} y_i (w^T x_i +b) \\iff L(w,b)= -\\sum_{(x_i,y_i) \\in K} y_i (w^T x_i +b)$  \n",
    "### where K is the set of all misclassified data points\n",
    "\n"
   ]
  },
  {
   "cell_type": "markdown",
   "metadata": {},
   "source": [
    "### 3. Optimizer: SGD with Mini-Batch:\n",
    "\n",
    "### $lr=0.05$\n",
    "### $wgrad=-y_i*x_i$ \n",
    "### $bgrad=-y_i$\n",
    "### $w=w+lr*\\sum_{(x_i,y_i)\\in K} y_i*x_i$\n",
    "### $b=b+lr*\\sum_{(x_i,y_i)\\in K} y_i$"
   ]
  },
  {
   "cell_type": "markdown",
   "metadata": {},
   "source": [
    "### Algorithm Steps:\n",
    "Given linearly separable dataset T: where $  T = \\{(x_1,y_1),(x_2,y_2),...,(x_m,y_m)\\}, x_i\\in R^n, y_i \\in Y=\\{+1,-1\\}, i=1,2,3,...,m $\n",
    "\n",
    "1.initialize weights w and b;\n",
    "\n",
    "2.scan the given daset to find the misclassified data point which is  given by $y_i (w^T x_i+b)<=0$;  \n",
    "\n",
    "3.update weights w and b with their gradients"
   ]
  },
  {
   "cell_type": "code",
   "execution_count": 85,
   "metadata": {},
   "outputs": [],
   "source": [
    "import numpy as np\n",
    "import pandas as pd\n",
    "import matplotlib.pyplot as plt\n",
    "%matplotlib inline"
   ]
  },
  {
   "cell_type": "code",
   "execution_count": 89,
   "metadata": {
    "pycharm": {
     "name": "#%%\n"
    }
   },
   "outputs": [],
   "source": [
    "class Perceptron():\n",
    "    def __init__(self,lr=0.05,threhold=100):\n",
    "        self.__lr=lr\n",
    "        self.__model=None\n",
    "        self.__threhold=threhold\n",
    "        \n",
    "    def setLr(self,lr):\n",
    "        self.__lr=lr\n",
    "         \n",
    "    def _sign(self,x):\n",
    "        if x>=0:\n",
    "            return 1\n",
    "        else:\n",
    "            return -1 \n",
    "        \n",
    "    def _dataProcessing(self,data):\n",
    "        if isinstance(data,pd.DataFrame):\n",
    "            data=data.to_numpy()\n",
    "            x=data[:,:-1]\n",
    "            y=data[:,-1]\n",
    "            print('successfully processing dataframe to x and y')\n",
    "        if isinstance(data,np.ndarray):\n",
    "            # no header\n",
    "            x=data[:,:-1]\n",
    "            y=data[:,-1]\n",
    "            print('successfully processing numpy array to x and y')\n",
    "        return x,y\n",
    "    \n",
    "    def train(self,data):\n",
    "        # initialize weights\n",
    "        x,y=self._dataProcessing(data)\n",
    "        shape_xi=x.shape[1]\n",
    "        w,b=np.zeros((1,shape_xi)),0\n",
    "        epoch=0\n",
    "        while epoch<=self.__threhold:\n",
    "            epoch+=1\n",
    "            correct_num=0\n",
    "            for i in range(x.shape[0]):\n",
    "                xi=x[i,:].reshape(-1,1)\n",
    "                y_hat=w@xi+b\n",
    "                # if find misclassification, update weights\n",
    "                if y[i]*y_hat<0:\n",
    "                    # w=w+lr* yi*xi   b=b+lr*yi\n",
    "                    w+=self.__lr*y[i]*x[i,:]\n",
    "                    b+=self.__lr*y[i]\n",
    "                else:\n",
    "                    correct_num+=1\n",
    "                    # if all data points are correctly classified, then algoritnm converges\n",
    "                    if correct_num==x.shape[0]:\n",
    "                        self.__model=dict({'w':w,'b':b})\n",
    "                        print('Algorithm Converged')\n",
    "                        return w,b,epoch\n",
    "        self.__model=dict({'w':w,'b':b})\n",
    "        return w,b,epoch \n",
    "                                 \n",
    "    def predict(self,data):\n",
    "        x,y=self._dataProcessing(data)\n",
    "        w,b=self.__model['w'],self.__model['b']\n",
    "        pred=[]\n",
    "        for i in range(x.shape[0]):\n",
    "            xi=x[i,:].reshape(-1,1)\n",
    "            y_hat=self._sign(w@xi+b)\n",
    "            pred.append(y_hat)\n",
    "        return pred\n",
    "    \n",
    "    def accuracy(self,data):\n",
    "        x,y=self._dataProcessing(data)\n",
    "        w,b=self.__model['w'],self.__model['b']\n",
    "        pred=[]\n",
    "        for i in range(x.shape[0]):\n",
    "            xi=x[i,:].reshape(-1,1)\n",
    "            y_hat=self._sign(w@xi+b)\n",
    "            pred.append(y_hat)\n",
    "        return np.mean(pred==y)                                  "
   ]
  }
 ],
 "metadata": {
  "kernelspec": {
   "display_name": "PyCharm (Machine-Learning)",
   "language": "python",
   "name": "pycharm-b417c3b3"
  },
  "language_info": {
   "codemirror_mode": {
    "name": "ipython",
    "version": 3
   },
   "file_extension": ".py",
   "mimetype": "text/x-python",
   "name": "python",
   "nbconvert_exporter": "python",
   "pygments_lexer": "ipython3",
   "version": "3.8.13"
  }
 },
 "nbformat": 4,
 "nbformat_minor": 1
}